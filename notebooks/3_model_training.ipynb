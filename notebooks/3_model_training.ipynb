{
 "cells": [
  {
   "cell_type": "markdown",
   "metadata": {},
   "source": [
    "# **Amazon Lookout for Equipment** - 익명화한 익스펜더 데이터셋에 대한 데모\n",
    "*파트 3: 모델 훈련*"
   ]
  },
  {
   "cell_type": "code",
   "execution_count": 1,
   "metadata": {},
   "outputs": [],
   "source": [
    "BUCKET = '<YOUR_BUCKET_NAME_HERE>'\n",
    "PREFIX = 'data'"
   ]
  },
  {
   "cell_type": "markdown",
   "metadata": {},
   "source": [
    "## 초기화\n",
    "---\n",
    "데이터 준비 노트북을 수행하면 저장소는 이제 다음과 같이 구성됩니다.\n",
    "```\n",
    "/lookout-equipment-demo\n",
    "|\n",
    "+-- data/\n",
    "|   |\n",
    "|   +-- labelled-data/\n",
    "|   |   \\-- labels.csv\n",
    "|   |\n",
    "|   \\-- training-data/\n",
    "|       \\-- expander/\n",
    "|           |-- subsystem-01\n",
    "|           |   \\-- subsystem-01.csv\n",
    "|           |\n",
    "|           |-- subsystem-02\n",
    "|           |   \\-- subsystem-02.csv\n",
    "|           |\n",
    "|           |-- ...\n",
    "|           |\n",
    "|           \\-- subsystem-24\n",
    "|               \\-- subsystem-24.csv\n",
    "|\n",
    "+-- dataset/\n",
    "|   |-- labels.csv\n",
    "|   |-- tags_description.csv\n",
    "|   |-- timeranges.txt\n",
    "|   \\-- timeseries.zip\n",
    "|\n",
    "+-- notebooks/\n",
    "|   |-- 1_data_preparation.ipynb\n",
    "|   |-- 2_dataset_creation.ipynb\n",
    "|   |-- 3_model_training.ipynb              <<< 본 노트북 <<<\n",
    "|   |-- 4_model_evaluation.ipynb\n",
    "|   \\-- 5_inference_scheduling.ipynb\n",
    "|\n",
    "+-- utils/\n",
    "    |-- lookout_equipment_utils.py\n",
    "    \\-- lookoutequipment.json\n",
    "```\n",
    "\n",
    "### 임포트"
   ]
  },
  {
   "cell_type": "code",
   "execution_count": 2,
   "metadata": {},
   "outputs": [],
   "source": [
    "%%sh\n",
    "pip -q install --upgrade pip\n",
    "pip -q install --upgrade awscli boto3 sagemaker\n",
    "aws configure add-model --service-model file://../utils/lookoutequipment.json --service-name lookoutequipment"
   ]
  },
  {
   "cell_type": "code",
   "execution_count": 3,
   "metadata": {},
   "outputs": [
    {
     "data": {
      "text/html": [
       "<script>Jupyter.notebook.kernel.restart()</script>"
      ],
      "text/plain": [
       "<IPython.core.display.HTML object>"
      ]
     },
     "execution_count": 3,
     "metadata": {},
     "output_type": "execute_result"
    }
   ],
   "source": [
    "from IPython.core.display import HTML\n",
    "HTML(\"<script>Jupyter.notebook.kernel.restart()</script>\")"
   ]
  },
  {
   "cell_type": "code",
   "execution_count": 4,
   "metadata": {},
   "outputs": [],
   "source": [
    "import boto3\n",
    "import os\n",
    "import pandas as pd\n",
    "import sagemaker\n",
    "import sys\n",
    "import warnings\n",
    "\n",
    "# Lookout for Equipment API 호출 관리를 위한 Helper 함수\n",
    "sys.path.append('../utils')\n",
    "import lookout_equipment_utils as lookout"
   ]
  },
  {
   "cell_type": "markdown",
   "metadata": {},
   "source": [
    "### 파라미터"
   ]
  },
  {
   "cell_type": "code",
   "execution_count": 5,
   "metadata": {},
   "outputs": [],
   "source": [
    "warnings.filterwarnings('ignore')\n",
    "\n",
    "DATA       = os.path.join('..', 'data')\n",
    "LABEL_DATA = os.path.join(DATA, 'labelled-data')\n",
    "TRAIN_DATA = os.path.join(DATA, 'training-data', 'expander')\n",
    "\n",
    "ROLE_ARN = sagemaker.get_execution_role()\n",
    "REGION_NAME = boto3.session.Session().region_name"
   ]
  },
  {
   "cell_type": "markdown",
   "metadata": {},
   "source": [
    "이전 분석을 바탕으로 다음의 기간 범위를 사용합니다.\n",
    "\n",
    "* **훈련 셋:** 2015년 1월 1일 - 2015년 8월 31일: Lookout for Equipment는 최소 180 일의 훈련 데이터를 필요로 합니다. 3월도 라벨이 태깅된 이상치 기간의 일부이므로 모델링 동작을 변경해서는 안됩니다. \n",
    "* **시험 셋:** 2015년 9월 1일 - 2015년 11월 30일 *(시험 셋에는 모델을 평가하기 위한 정상과 비정상 데이터 모두가 포함되어야 함)*"
   ]
  },
  {
   "cell_type": "code",
   "execution_count": 6,
   "metadata": {},
   "outputs": [
    {
     "name": "stdout",
     "output_type": "stream",
     "text": [
      "Training period: from 2015-01-01 00:00:00 to 2015-08-31 23:59:00\n",
      "Evaluation period: from 2015-09-01 00:00:00 to 2015-11-30 23:59:00\n",
      "Dataset used: lookout-demo-training-dataset\n"
     ]
    }
   ],
   "source": [
    "# 기간 범위를 불러옵니다.\n",
    "timeranges_fname = os.path.join(DATA, 'timeranges.txt')\n",
    "with open(timeranges_fname, 'r') as f:\n",
    "    timeranges = f.readlines()\n",
    "    \n",
    "training_start   = pd.to_datetime(timeranges[0][:-1])\n",
    "training_end     = pd.to_datetime(timeranges[1][:-1])\n",
    "evaluation_start = pd.to_datetime(timeranges[2][:-1])\n",
    "evaluation_end   = pd.to_datetime(timeranges[3][:-1])\n",
    "\n",
    "print(f'Training period: from {training_start} to {training_end}')\n",
    "print(f'Evaluation period: from {evaluation_start} to {evaluation_end}')\n",
    "\n",
    "dataset_fname = os.path.join(DATA, 'dataset_name.txt')\n",
    "with open(dataset_fname, 'r') as f:\n",
    "    DATASET_NAME = f.readline()\n",
    "    \n",
    "print('Dataset used:', DATASET_NAME)"
   ]
  },
  {
   "cell_type": "markdown",
   "metadata": {},
   "source": [
    "## 모델 훈련\n",
    "---"
   ]
  },
  {
   "cell_type": "code",
   "execution_count": 7,
   "metadata": {},
   "outputs": [],
   "source": [
    "# 모델 파라미터를 준비합니다.\n",
    "lookout_model = lookout.LookoutEquipmentModel(model_name='lookout-demo-model-v1',\n",
    "                                              dataset_name=DATASET_NAME,\n",
    "                                              region_name=REGION_NAME)\n",
    "\n",
    "# 훈련 / 검증 분할 일자를 지정합니다.\n",
    "lookout_model.set_time_periods(evaluation_start,\n",
    "                               evaluation_end,\n",
    "                               training_start,\n",
    "                               training_end)\n",
    "\n",
    "# 라벨 데이터 위치를 지정합니다.\n",
    "lookout_model.set_label_data(bucket=BUCKET, \n",
    "                             prefix=f'{PREFIX}/labelled-data/',\n",
    "                             access_role_arn=ROLE_ARN)\n",
    "\n",
    "# 훈련에 앞서 서비스가 데이터를 재샘플링할 비율을 설정합니다. \n",
    "lookout_model.set_target_sampling_rate(sampling_rate='PT5M')"
   ]
  },
  {
   "cell_type": "code",
   "execution_count": 8,
   "metadata": {},
   "outputs": [],
   "source": [
    "# 모델을 실제로 생성하고 훈련시킵니다.\n",
    "_ = lookout_model.train()"
   ]
  },
  {
   "cell_type": "markdown",
   "metadata": {},
   "source": [
    "콘솔을 캡처한 것처럼 현재 훈련이 진행 중입니다.\n",
    "    \n",
    "![Training in progress](../assets/model-training-in-progress.png)\n",
    "\n",
    "다음 셀을 통해 모델 훈련 진행 상황을 파악하세요. **본 모델을 훈련시키는데 약 1시간이 소요됩니다.** 훈련 시간을 결정하는 주요 동인은 다음과 같습니다. \n",
    "* 라벨 데이터셋의 라벨 개수 (주어진 경우)\n",
    "* 데이터 포인트 개수: 이 개수는 샘플링 비율, 시계열 개수와 시간 범위에 따라 달라집니다."
   ]
  },
  {
   "cell_type": "code",
   "execution_count": 9,
   "metadata": {},
   "outputs": [
    {
     "name": "stdout",
     "output_type": "stream",
     "text": [
      "2021-04-02 21:57:09 | Model training: IN_PROGRESS\n",
      "2021-04-02 21:58:10 | Model training: IN_PROGRESS\n",
      "2021-04-02 21:59:10 | Model training: IN_PROGRESS\n",
      "2021-04-02 22:00:10 | Model training: IN_PROGRESS\n",
      "2021-04-02 22:01:11 | Model training: IN_PROGRESS\n",
      "2021-04-02 22:02:12 | Model training: IN_PROGRESS\n",
      "2021-04-02 22:03:12 | Model training: IN_PROGRESS\n",
      "2021-04-02 22:04:12 | Model training: IN_PROGRESS\n",
      "2021-04-02 22:05:13 | Model training: IN_PROGRESS\n",
      "2021-04-02 22:06:14 | Model training: IN_PROGRESS\n",
      "2021-04-02 22:07:14 | Model training: IN_PROGRESS\n",
      "2021-04-02 22:08:14 | Model training: IN_PROGRESS\n",
      "2021-04-02 22:09:14 | Model training: IN_PROGRESS\n",
      "2021-04-02 22:10:15 | Model training: IN_PROGRESS\n",
      "2021-04-02 22:11:16 | Model training: IN_PROGRESS\n",
      "2021-04-02 22:12:16 | Model training: IN_PROGRESS\n",
      "2021-04-02 22:13:16 | Model training: IN_PROGRESS\n",
      "2021-04-02 22:14:16 | Model training: IN_PROGRESS\n",
      "2021-04-02 22:15:17 | Model training: IN_PROGRESS\n",
      "2021-04-02 22:16:18 | Model training: IN_PROGRESS\n",
      "2021-04-02 22:17:18 | Model training: IN_PROGRESS\n",
      "2021-04-02 22:18:18 | Model training: IN_PROGRESS\n",
      "2021-04-02 22:19:19 | Model training: IN_PROGRESS\n",
      "2021-04-02 22:20:19 | Model training: IN_PROGRESS\n",
      "2021-04-02 22:21:20 | Model training: IN_PROGRESS\n",
      "2021-04-02 22:22:20 | Model training: IN_PROGRESS\n",
      "2021-04-02 22:23:21 | Model training: IN_PROGRESS\n",
      "2021-04-02 22:24:21 | Model training: IN_PROGRESS\n",
      "2021-04-02 22:25:22 | Model training: IN_PROGRESS\n",
      "2021-04-02 22:26:23 | Model training: IN_PROGRESS\n",
      "2021-04-02 22:27:23 | Model training: IN_PROGRESS\n",
      "2021-04-02 22:28:23 | Model training: IN_PROGRESS\n",
      "2021-04-02 22:29:23 | Model training: IN_PROGRESS\n",
      "2021-04-02 22:30:24 | Model training: IN_PROGRESS\n",
      "2021-04-02 22:31:25 | Model training: IN_PROGRESS\n",
      "2021-04-02 22:32:25 | Model training: IN_PROGRESS\n",
      "2021-04-02 22:33:25 | Model training: IN_PROGRESS\n",
      "2021-04-02 22:34:26 | Model training: IN_PROGRESS\n",
      "2021-04-02 22:35:26 | Model training: IN_PROGRESS\n",
      "2021-04-02 22:36:27 | Model training: IN_PROGRESS\n",
      "2021-04-02 22:37:27 | Model training: IN_PROGRESS\n",
      "2021-04-02 22:38:28 | Model training: IN_PROGRESS\n",
      "2021-04-02 22:39:28 | Model training: IN_PROGRESS\n",
      "2021-04-02 22:40:28 | Model training: IN_PROGRESS\n",
      "2021-04-02 22:41:29 | Model training: IN_PROGRESS\n",
      "2021-04-02 22:42:29 | Model training: IN_PROGRESS\n",
      "2021-04-02 22:43:30 | Model training: IN_PROGRESS\n",
      "2021-04-02 22:44:30 | Model training: IN_PROGRESS\n",
      "2021-04-02 22:45:30 | Model training: IN_PROGRESS\n",
      "2021-04-02 22:46:31 | Model training: IN_PROGRESS\n",
      "2021-04-02 22:47:32 | Model training: IN_PROGRESS\n",
      "2021-04-02 22:48:32 | Model training: IN_PROGRESS\n",
      "2021-04-02 22:49:32 | Model training: IN_PROGRESS\n",
      "2021-04-02 22:50:33 | Model training: IN_PROGRESS\n",
      "2021-04-02 22:51:45 | Model training: SUCCESS\n"
     ]
    }
   ],
   "source": [
    "lookout_model.poll_model_training()"
   ]
  },
  {
   "cell_type": "markdown",
   "metadata": {},
   "source": [
    "현재 모델 훈련 중이며 본 노트북 처음에 선택한 검증 기간에 대해 백테스트 결과를 시각화해볼 수 있습니다. \n",
    "\n",
    "![Training complete](../assets/model-training-complete.png)"
   ]
  },
  {
   "cell_type": "markdown",
   "metadata": {},
   "source": [
    "## 결론\n",
    "---\n",
    "이 노트북에서는 노트북 시리즈 파트 2에서 생성한 데이터셋을 사용하여 Lookout for Equipment 모델을 훈련시켰습니다.\n",
    "\n",
    "이제 다음 노트북 중 한 가지를 실행해볼 수 있습니다. \n",
    "* 본 모델에 대해 **검증 데이터를 추출**하고 모델 결과에 대한 추가 분석을 수행할 다음 노트북으로 이동합니다.\n",
    "* 또는 **추론 스케줄링 노트북**에서 모델을 구동하여 신규 데이터를 제공하고 결과를 저장합니다."
   ]
  }
 ],
 "metadata": {
  "kernelspec": {
   "display_name": "Python 3",
   "language": "python",
   "name": "python3"
  },
  "language_info": {
   "codemirror_mode": {
    "name": "ipython",
    "version": 3
   },
   "file_extension": ".py",
   "mimetype": "text/x-python",
   "name": "python",
   "nbconvert_exporter": "python",
   "pygments_lexer": "ipython3",
   "version": "3.8.5"
  }
 },
 "nbformat": 4,
 "nbformat_minor": 4
}
