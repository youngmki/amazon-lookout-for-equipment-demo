{
 "cells": [
  {
   "cell_type": "markdown",
   "metadata": {},
   "source": [
    "# **Amazon Lookout for Equipment** - 익명화한 익스펜더 데이터셋에 대한 데모\n",
    "*파트 2: 데이터셋 생성*\n",
    "\n",
    "**버킷 이름을 적절하게 변경하세요.** 본 노트북은 Lookout for Equipment 서비스에 대해 S3 버킷 접근을 허용하는 역할을 갖고 있어야합니다. 본 단계에서 데이터 수집을 위해 해당 S3 위치에서 데이터를 읽을 수 있어야 합니다. 추론 스케줄링 단계에서 버킷에 데이터를 쓸 수 있어야 합니다.\n",
    "\n",
    "**참고:** Amazon Lookout for Equipment에 대한 IAM 역할을 생성하지 않았다면 먼저 다음 [**IAM 역할 생성 가이드**](https://github.com/dast1/l4e_iam_role_configuration/blob/main/configure_IAM_role.md)를 따르십시오."
   ]
  },
  {
   "cell_type": "code",
   "execution_count": 1,
   "metadata": {},
   "outputs": [],
   "source": [
    "BUCKET = '<YOUR_BUCKET_NAME_HERE>'\n",
    "PREFIX = 'data/training-data/expander/'"
   ]
  },
  {
   "cell_type": "markdown",
   "metadata": {},
   "source": [
    "## 초기화\n",
    "---\n",
    "데이터 준비 노트북을 수행하면 저장소는 이제 다음과 같이 구성됩니다.\n",
    "```\n",
    "/lookout-equipment-demo\n",
    "|\n",
    "+-- data/\n",
    "|   |\n",
    "|   +-- labelled-data/\n",
    "|   |   \\-- labels.csv\n",
    "|   |\n",
    "|   \\-- training-data/\n",
    "|       \\-- expander/\n",
    "|           |-- subsystem-01\n",
    "|           |   \\-- subsystem-01.csv\n",
    "|           |\n",
    "|           |-- subsystem-02\n",
    "|           |   \\-- subsystem-02.csv\n",
    "|           |\n",
    "|           |-- ...\n",
    "|           |\n",
    "|           \\-- subsystem-24\n",
    "|               \\-- subsystem-24.csv\n",
    "|\n",
    "+-- dataset/\n",
    "|   |-- labels.csv\n",
    "|   |-- tags_description.csv\n",
    "|   |-- timeranges.txt\n",
    "|   \\-- timeseries.zip\n",
    "|\n",
    "+-- notebooks/\n",
    "|   |-- 1_data_preparation.ipynb\n",
    "|   |-- 2_dataset_creation.ipynb            <<< 본 노트북 <<<\n",
    "|   |-- 3_model_training.ipynb\n",
    "|   |-- 4_model_evaluation.ipynb\n",
    "|   \\-- 5_inference_scheduling.ipynb\n",
    "|\n",
    "+-- utils/\n",
    "    |-- lookout_equipment_utils.py\n",
    "    \\-- lookoutequipment.json\n",
    "```\n",
    "\n",
    "### 임포트"
   ]
  },
  {
   "cell_type": "code",
   "execution_count": 2,
   "metadata": {},
   "outputs": [],
   "source": [
    "%%sh\n",
    "pip -q install --upgrade pip\n",
    "pip -q install --upgrade awscli boto3 sagemaker\n",
    "aws configure add-model --service-model file://../utils/lookoutequipment.json --service-name lookoutequipment"
   ]
  },
  {
   "cell_type": "code",
   "execution_count": 3,
   "metadata": {},
   "outputs": [
    {
     "data": {
      "text/html": [
       "<script>Jupyter.notebook.kernel.restart()</script>"
      ],
      "text/plain": [
       "<IPython.core.display.HTML object>"
      ]
     },
     "execution_count": 3,
     "metadata": {},
     "output_type": "execute_result"
    }
   ],
   "source": [
    "from IPython.core.display import HTML\n",
    "HTML(\"<script>Jupyter.notebook.kernel.restart()</script>\")"
   ]
  },
  {
   "cell_type": "code",
   "execution_count": 4,
   "metadata": {},
   "outputs": [],
   "source": [
    "import boto3\n",
    "import os\n",
    "import pandas as pd\n",
    "import pprint\n",
    "import sagemaker\n",
    "import sys\n",
    "import time\n",
    "import warnings\n",
    "\n",
    "from datetime import datetime\n",
    "\n",
    "# Lookout for Equipment API 호출 관리를 위한 Helper 함수\n",
    "sys.path.append('../utils')\n",
    "import lookout_equipment_utils as lookout"
   ]
  },
  {
   "cell_type": "markdown",
   "metadata": {},
   "source": [
    "### 파라미터"
   ]
  },
  {
   "cell_type": "code",
   "execution_count": 5,
   "metadata": {},
   "outputs": [],
   "source": [
    "warnings.filterwarnings('ignore')\n",
    "\n",
    "DATA       = os.path.join('..', 'data')\n",
    "LABEL_DATA = os.path.join(DATA, 'labelled-data')\n",
    "TRAIN_DATA = os.path.join(DATA, 'training-data', 'expander')\n",
    "\n",
    "ROLE_ARN = sagemaker.get_execution_role()\n",
    "REGION_NAME = boto3.session.Session().region_name\n",
    "DATASET_NAME = 'lookout-demo-training-dataset'"
   ]
  },
  {
   "cell_type": "code",
   "execution_count": 6,
   "metadata": {},
   "outputs": [],
   "source": [
    "# 훈련 데이터 디렉토리의 List\n",
    "# 디렉토리: 각 디렉토리는 하나의 하위 시스템에 대응됩니다.\n",
    "components = []\n",
    "for root, dirs, files in os.walk(f'{TRAIN_DATA}'):\n",
    "    for subsystem in dirs:\n",
    "        components.append(subsystem)"
   ]
  },
  {
   "cell_type": "markdown",
   "metadata": {},
   "source": [
    "## 데이터셋 생성\n",
    "---"
   ]
  },
  {
   "cell_type": "markdown",
   "metadata": {},
   "source": [
    "### 데이터 스키마 생성하기"
   ]
  },
  {
   "cell_type": "markdown",
   "metadata": {},
   "source": [
    "먼저 데이터셋의 스키마를 설정해야합니다. 아래 셀에서 `DATASET_COMPONENT_FIELDS_MAP`를 정의하십시오. `DATASET_COMPONENT_FIELDS_MAP`는 Python Dictionary (hashmap)입니다. Dictionary 각 항목의 키는 `Component` 이름이고 각 항목의 값은 열 이름의 List입니다. 열 이름은 csv 파일의 헤더와 정확히 일치해야합니다. 열 이름의 순서도 정확히 일치해야합니다. 예를 들어 여기서 사용할 예제의 데이터 스키마를 생성하려는 경우 Dictionary는 다음과 같습니다. \n",
    "\n",
    "```json\n",
    "DATASET_COMPONENT_FIELDS_MAP = {\n",
    "    \"Component1\": ['Timestamp', 'Tag1', 'Tag2',...],\n",
    "    \"Component2\": ['Timestamp', 'Tag1', 'Tag2',...]\n",
    "    ...\n",
    "    \"ComponentN\": ['Timestamp', 'Tag1', 'Tag2',...]\n",
    "}\n",
    "```\n",
    "\n",
    "구성 요소 이름이 S3의 폴더 명과 **정확히 일치**하는지 확인합니다 (**대소문자 구분**).\n",
    "```json\n",
    "DATASET_COMPONENT_FIELDS_MAP = {\n",
    "    \"subsystem-01\": ['Timestamp', 'signal-026', 'signal-027',... , 'signal-092'],\n",
    "    \"subsystem-02\": ['Timestamp', 'signal-022', 'signal-023',... , 'signal-096'],\n",
    "    ...\n",
    "    \"subsystem-24\": ['Timestamp', 'signal-083'],\n",
    "}\n",
    "```"
   ]
  },
  {
   "cell_type": "code",
   "execution_count": 7,
   "metadata": {},
   "outputs": [],
   "source": [
    "DATASET_COMPONENT_FIELDS_MAP = dict()\n",
    "for subsystem in components:\n",
    "    subsystem_tags = ['Timestamp']\n",
    "    for root, _, files in os.walk(f'{TRAIN_DATA}/{subsystem}'):\n",
    "        for file in files:\n",
    "            fname = os.path.join(root, file)\n",
    "            current_subsystem_df = pd.read_csv(fname, nrows=1)\n",
    "            subsystem_tags = subsystem_tags + current_subsystem_df.columns.tolist()[1:]\n",
    "\n",
    "        DATASET_COMPONENT_FIELDS_MAP.update({subsystem: subsystem_tags})\n",
    "        \n",
    "        \n",
    "lookout_dataset = lookout.LookoutEquipmentDataset(\n",
    "    dataset_name=DATASET_NAME,\n",
    "    component_fields_map=DATASET_COMPONENT_FIELDS_MAP,\n",
    "    region_name=REGION_NAME,\n",
    "    access_role_arn=ROLE_ARN\n",
    ")"
   ]
  },
  {
   "cell_type": "markdown",
   "metadata": {},
   "source": [
    "콘솔을 사용하는 경우 다음 문자열을 이용하여 **데이터셋 스키마**를 구성할 수 있습니다.\n",
    "\n",
    "![dataset_schema](../assets/dataset-schema.png)"
   ]
  },
  {
   "cell_type": "code",
   "execution_count": 8,
   "metadata": {},
   "outputs": [
    {
     "name": "stdout",
     "output_type": "stream",
     "text": [
      "{'Components': [{'Columns': [{'Name': 'Timestamp', 'Type': 'DATETIME'},\n",
      "                             {'Name': 'signal-001', 'Type': 'DOUBLE'},\n",
      "                             {'Name': 'signal-002', 'Type': 'DOUBLE'},\n",
      "                             {'Name': 'signal-003', 'Type': 'DOUBLE'},\n",
      "                             {'Name': 'signal-004', 'Type': 'DOUBLE'},\n",
      "                             {'Name': 'signal-046', 'Type': 'DOUBLE'},\n",
      "                             {'Name': 'signal-047', 'Type': 'DOUBLE'},\n",
      "                             {'Name': 'signal-077', 'Type': 'DOUBLE'},\n",
      "                             {'Name': 'signal-081', 'Type': 'DOUBLE'},\n",
      "                             {'Name': 'signal-106', 'Type': 'DOUBLE'},\n",
      "                             {'Name': 'signal-107', 'Type': 'DOUBLE'}],\n",
      "                 'ComponentName': 'subsystem-05'},\n",
      "                {'Columns': [{'Name': 'Timestamp', 'Type': 'DATETIME'},\n",
      "                             {'Name': 'signal-022', 'Type': 'DOUBLE'},\n",
      "                             {'Name': 'signal-023', 'Type': 'DOUBLE'},\n",
      "                             {'Name': 'signal-024', 'Type': 'DOUBLE'},\n",
      "                             {'Name': 'signal-025', 'Type': 'DOUBLE'},\n",
      "                             {'Name': 'signal-038', 'Type': 'DOUBLE'},\n",
      "                             {'Name': 'signal-039', 'Type': 'DOUBLE'},\n",
      "                             {'Name': 'signal-057', 'Type': 'DOUBLE'},\n",
      "                             {'Name': 'signal-064', 'Type': 'DOUBLE'},\n",
      "                             {'Name': 'signal-074', 'Type': 'DOUBLE'},\n",
      "                             {'Name': 'signal-085', 'Type': 'DOUBLE'},\n",
      "                             {'Name': 'signal-088', 'Type': 'DOUBLE'},\n",
      "                             {'Name': 'signal-093', 'Type': 'DOUBLE'},\n",
      "                             {'Name': 'signal-096', 'Type': 'DOUBLE'}],\n",
      "                 'ComponentName': 'subsystem-02'},\n",
      "                {'Columns': [{'Name': 'Timestamp', 'Type': 'DATETIME'},\n",
      "                             {'Name': 'signal-020', 'Type': 'DOUBLE'},\n",
      "                             {'Name': 'signal-021', 'Type': 'DOUBLE'},\n",
      "                             {'Name': 'signal-036', 'Type': 'DOUBLE'},\n",
      "                             {'Name': 'signal-037', 'Type': 'DOUBLE'},\n",
      "                             {'Name': 'signal-058', 'Type': 'DOUBLE'},\n",
      "                             {'Name': 'signal-073', 'Type': 'DOUBLE'},\n",
      "                             {'Name': 'signal-095', 'Type': 'DOUBLE'},\n",
      "                             {'Name': 'signal-110', 'Type': 'DOUBLE'},\n",
      "                             {'Name': 'signal-116', 'Type': 'DOUBLE'}],\n",
      "                 'ComponentName': 'subsystem-03'},\n",
      "                {'Columns': [{'Name': 'Timestamp', 'Type': 'DATETIME'},\n",
      "                             {'Name': 'signal-018', 'Type': 'DOUBLE'},\n",
      "                             {'Name': 'signal-019', 'Type': 'DOUBLE'},\n",
      "                             {'Name': 'signal-030', 'Type': 'DOUBLE'},\n",
      "                             {'Name': 'signal-034', 'Type': 'DOUBLE'},\n",
      "                             {'Name': 'signal-035', 'Type': 'DOUBLE'},\n",
      "                             {'Name': 'signal-059', 'Type': 'DOUBLE'},\n",
      "                             {'Name': 'signal-060', 'Type': 'DOUBLE'},\n",
      "                             {'Name': 'signal-066', 'Type': 'DOUBLE'},\n",
      "                             {'Name': 'signal-072', 'Type': 'DOUBLE'},\n",
      "                             {'Name': 'signal-079', 'Type': 'DOUBLE'},\n",
      "                             {'Name': 'signal-111', 'Type': 'DOUBLE'},\n",
      "                             {'Name': 'signal-112', 'Type': 'DOUBLE'},\n",
      "                             {'Name': 'signal-113', 'Type': 'DOUBLE'}],\n",
      "                 'ComponentName': 'subsystem-04'},\n",
      "                {'Columns': [{'Name': 'Timestamp', 'Type': 'DATETIME'},\n",
      "                             {'Name': 'signal-108', 'Type': 'DOUBLE'}],\n",
      "                 'ComponentName': 'subsystem-17'},\n",
      "                {'Columns': [{'Name': 'Timestamp', 'Type': 'DATETIME'},\n",
      "                             {'Name': 'signal-071', 'Type': 'DOUBLE'}],\n",
      "                 'ComponentName': 'subsystem-10'},\n",
      "                {'Columns': [{'Name': 'Timestamp', 'Type': 'DATETIME'},\n",
      "                             {'Name': 'signal-067', 'Type': 'DOUBLE'}],\n",
      "                 'ComponentName': 'subsystem-19'},\n",
      "                {'Columns': [{'Name': 'Timestamp', 'Type': 'DATETIME'},\n",
      "                             {'Name': 'signal-084', 'Type': 'DOUBLE'}],\n",
      "                 'ComponentName': 'subsystem-21'},\n",
      "                {'Columns': [{'Name': 'Timestamp', 'Type': 'DATETIME'},\n",
      "                             {'Name': 'signal-076', 'Type': 'DOUBLE'}],\n",
      "                 'ComponentName': 'subsystem-20'},\n",
      "                {'Columns': [{'Name': 'Timestamp', 'Type': 'DATETIME'},\n",
      "                             {'Name': 'signal-099', 'Type': 'DOUBLE'}],\n",
      "                 'ComponentName': 'subsystem-18'},\n",
      "                {'Columns': [{'Name': 'Timestamp', 'Type': 'DATETIME'},\n",
      "                             {'Name': 'signal-042', 'Type': 'DOUBLE'},\n",
      "                             {'Name': 'signal-043', 'Type': 'DOUBLE'},\n",
      "                             {'Name': 'signal-051', 'Type': 'DOUBLE'},\n",
      "                             {'Name': 'signal-052', 'Type': 'DOUBLE'},\n",
      "                             {'Name': 'signal-053', 'Type': 'DOUBLE'},\n",
      "                             {'Name': 'signal-054', 'Type': 'DOUBLE'},\n",
      "                             {'Name': 'signal-100', 'Type': 'DOUBLE'},\n",
      "                             {'Name': 'signal-101', 'Type': 'DOUBLE'},\n",
      "                             {'Name': 'signal-102', 'Type': 'DOUBLE'}],\n",
      "                 'ComponentName': 'subsystem-11'},\n",
      "                {'Columns': [{'Name': 'Timestamp', 'Type': 'DATETIME'},\n",
      "                             {'Name': 'signal-090', 'Type': 'DOUBLE'}],\n",
      "                 'ComponentName': 'subsystem-16'},\n",
      "                {'Columns': [{'Name': 'Timestamp', 'Type': 'DATETIME'},\n",
      "                             {'Name': 'signal-005', 'Type': 'DOUBLE'},\n",
      "                             {'Name': 'signal-006', 'Type': 'DOUBLE'},\n",
      "                             {'Name': 'signal-007', 'Type': 'DOUBLE'},\n",
      "                             {'Name': 'signal-008', 'Type': 'DOUBLE'},\n",
      "                             {'Name': 'signal-048', 'Type': 'DOUBLE'},\n",
      "                             {'Name': 'signal-049', 'Type': 'DOUBLE'},\n",
      "                             {'Name': 'signal-078', 'Type': 'DOUBLE'},\n",
      "                             {'Name': 'signal-109', 'Type': 'DOUBLE'},\n",
      "                             {'Name': 'signal-120', 'Type': 'DOUBLE'},\n",
      "                             {'Name': 'signal-121', 'Type': 'DOUBLE'}],\n",
      "                 'ComponentName': 'subsystem-08'},\n",
      "                {'Columns': [{'Name': 'Timestamp', 'Type': 'DATETIME'},\n",
      "                             {'Name': 'signal-026', 'Type': 'DOUBLE'},\n",
      "                             {'Name': 'signal-027', 'Type': 'DOUBLE'},\n",
      "                             {'Name': 'signal-028', 'Type': 'DOUBLE'},\n",
      "                             {'Name': 'signal-029', 'Type': 'DOUBLE'},\n",
      "                             {'Name': 'signal-040', 'Type': 'DOUBLE'},\n",
      "                             {'Name': 'signal-041', 'Type': 'DOUBLE'},\n",
      "                             {'Name': 'signal-055', 'Type': 'DOUBLE'},\n",
      "                             {'Name': 'signal-056', 'Type': 'DOUBLE'},\n",
      "                             {'Name': 'signal-068', 'Type': 'DOUBLE'},\n",
      "                             {'Name': 'signal-069', 'Type': 'DOUBLE'},\n",
      "                             {'Name': 'signal-070', 'Type': 'DOUBLE'},\n",
      "                             {'Name': 'signal-075', 'Type': 'DOUBLE'},\n",
      "                             {'Name': 'signal-086', 'Type': 'DOUBLE'},\n",
      "                             {'Name': 'signal-087', 'Type': 'DOUBLE'},\n",
      "                             {'Name': 'signal-092', 'Type': 'DOUBLE'}],\n",
      "                 'ComponentName': 'subsystem-01'},\n",
      "                {'Columns': [{'Name': 'Timestamp', 'Type': 'DATETIME'},\n",
      "                             {'Name': 'signal-009', 'Type': 'DOUBLE'},\n",
      "                             {'Name': 'signal-010', 'Type': 'DOUBLE'},\n",
      "                             {'Name': 'signal-011', 'Type': 'DOUBLE'},\n",
      "                             {'Name': 'signal-012', 'Type': 'DOUBLE'},\n",
      "                             {'Name': 'signal-050', 'Type': 'DOUBLE'},\n",
      "                             {'Name': 'signal-063', 'Type': 'DOUBLE'},\n",
      "                             {'Name': 'signal-117', 'Type': 'DOUBLE'},\n",
      "                             {'Name': 'signal-118', 'Type': 'DOUBLE'},\n",
      "                             {'Name': 'signal-119', 'Type': 'DOUBLE'}],\n",
      "                 'ComponentName': 'subsystem-06'},\n",
      "                {'Columns': [{'Name': 'Timestamp', 'Type': 'DATETIME'},\n",
      "                             {'Name': 'signal-013', 'Type': 'DOUBLE'},\n",
      "                             {'Name': 'signal-014', 'Type': 'DOUBLE'},\n",
      "                             {'Name': 'signal-015', 'Type': 'DOUBLE'},\n",
      "                             {'Name': 'signal-017', 'Type': 'DOUBLE'},\n",
      "                             {'Name': 'signal-061', 'Type': 'DOUBLE'},\n",
      "                             {'Name': 'signal-062', 'Type': 'DOUBLE'},\n",
      "                             {'Name': 'signal-082', 'Type': 'DOUBLE'},\n",
      "                             {'Name': 'signal-114', 'Type': 'DOUBLE'},\n",
      "                             {'Name': 'signal-115', 'Type': 'DOUBLE'},\n",
      "                             {'Name': 'signal-122', 'Type': 'DOUBLE'}],\n",
      "                 'ComponentName': 'subsystem-07'},\n",
      "                {'Columns': [{'Name': 'Timestamp', 'Type': 'DATETIME'},\n",
      "                             {'Name': 'signal-016', 'Type': 'DOUBLE'},\n",
      "                             {'Name': 'signal-031', 'Type': 'DOUBLE'},\n",
      "                             {'Name': 'signal-032', 'Type': 'DOUBLE'},\n",
      "                             {'Name': 'signal-033', 'Type': 'DOUBLE'},\n",
      "                             {'Name': 'signal-044', 'Type': 'DOUBLE'},\n",
      "                             {'Name': 'signal-045', 'Type': 'DOUBLE'},\n",
      "                             {'Name': 'signal-103', 'Type': 'DOUBLE'},\n",
      "                             {'Name': 'signal-104', 'Type': 'DOUBLE'},\n",
      "                             {'Name': 'signal-105', 'Type': 'DOUBLE'}],\n",
      "                 'ComponentName': 'subsystem-09'},\n",
      "                {'Columns': [{'Name': 'Timestamp', 'Type': 'DATETIME'},\n",
      "                             {'Name': 'signal-080', 'Type': 'DOUBLE'},\n",
      "                             {'Name': 'signal-091', 'Type': 'DOUBLE'}],\n",
      "                 'ComponentName': 'subsystem-13'},\n",
      "                {'Columns': [{'Name': 'Timestamp', 'Type': 'DATETIME'},\n",
      "                             {'Name': 'signal-094', 'Type': 'DOUBLE'}],\n",
      "                 'ComponentName': 'subsystem-14'},\n",
      "                {'Columns': [{'Name': 'Timestamp', 'Type': 'DATETIME'},\n",
      "                             {'Name': 'signal-097', 'Type': 'DOUBLE'}],\n",
      "                 'ComponentName': 'subsystem-22'},\n",
      "                {'Columns': [{'Name': 'Timestamp', 'Type': 'DATETIME'},\n",
      "                             {'Name': 'signal-083', 'Type': 'DOUBLE'}],\n",
      "                 'ComponentName': 'subsystem-24'},\n",
      "                {'Columns': [{'Name': 'Timestamp', 'Type': 'DATETIME'},\n",
      "                             {'Name': 'signal-098', 'Type': 'DOUBLE'}],\n",
      "                 'ComponentName': 'subsystem-23'},\n",
      "                {'Columns': [{'Name': 'Timestamp', 'Type': 'DATETIME'},\n",
      "                             {'Name': 'signal-089', 'Type': 'DOUBLE'}],\n",
      "                 'ComponentName': 'subsystem-15'},\n",
      "                {'Columns': [{'Name': 'Timestamp', 'Type': 'DATETIME'},\n",
      "                             {'Name': 'signal-065', 'Type': 'DOUBLE'}],\n",
      "                 'ComponentName': 'subsystem-12'}]}\n"
     ]
    }
   ],
   "source": [
    "import pprint\n",
    "pp = pprint.PrettyPrinter(depth=5)\n",
    "pp.pprint(eval(lookout_dataset.dataset_schema))"
   ]
  },
  {
   "cell_type": "markdown",
   "metadata": {},
   "source": [
    "### 데이터셋 생성하기"
   ]
  },
  {
   "cell_type": "code",
   "execution_count": 9,
   "metadata": {},
   "outputs": [
    {
     "name": "stdout",
     "output_type": "stream",
     "text": [
      "Dataset \"lookout-demo-training-dataset\" already exists and can be used to ingest data or train a model.\n"
     ]
    }
   ],
   "source": [
    "lookout_dataset.create()"
   ]
  },
  {
   "cell_type": "markdown",
   "metadata": {},
   "source": [
    "데이터셋이 생성되었지만 현재 비어 있으며 이전 노트북에서 준비한 S3 위치에서 시계열 데이터를 수신, 수집할 준비가 되었습니다.\n",
    "\n",
    "![dataset_schema](../assets/dataset-created.png)"
   ]
  },
  {
   "cell_type": "markdown",
   "metadata": {},
   "source": [
    "## 데이터셋으로 데이터 수집하기\n",
    "---\n",
    "생성한 Lookout for Equipment 데이터셋으로 데이터 일부를 수집하는데 사용할 매개 변수 값 전부를 재확인해보겠습니다. "
   ]
  },
  {
   "cell_type": "code",
   "execution_count": 10,
   "metadata": {},
   "outputs": [],
   "source": [
    "# ROLE_ARN, BUCKET, PREFIX, DATASET_NAME"
   ]
  },
  {
   "cell_type": "markdown",
   "metadata": {},
   "source": [
    "Lookout for Equipment 데이터셋에서 수집 작업을 시작합니다."
   ]
  },
  {
   "cell_type": "code",
   "execution_count": 11,
   "metadata": {},
   "outputs": [],
   "source": [
    "response = lookout_dataset.ingest_data(BUCKET, PREFIX)"
   ]
  },
  {
   "cell_type": "markdown",
   "metadata": {},
   "source": [
    "수집이 시작됩니다. 현재 데이터 크기 (약 1.5GB)에서 5-10분 정도 걸립니다.\n",
    "\n",
    "![dataset_schema](../assets/dataset-ingestion-in-progress.png)"
   ]
  },
  {
   "cell_type": "code",
   "execution_count": 12,
   "metadata": {},
   "outputs": [
    {
     "name": "stdout",
     "output_type": "stream",
     "text": [
      "=====Polling Data Ingestion Status=====\n",
      "\n",
      "2021-04-02 20:07:12 |  IN_PROGRESS\n",
      "2021-04-02 20:08:13 |  IN_PROGRESS\n",
      "2021-04-02 20:09:14 |  IN_PROGRESS\n",
      "2021-04-02 20:10:14 |  IN_PROGRESS\n",
      "2021-04-02 20:11:14 |  IN_PROGRESS\n",
      "2021-04-02 20:12:14 |  IN_PROGRESS\n",
      "2021-04-02 20:13:15 |  SUCCESS\n",
      "\n",
      "=====End of Polling Data Ingestion Status=====\n"
     ]
    }
   ],
   "source": [
    "# 수집 작업 ID와 상태를 가져옵니다.\n",
    "data_ingestion_job_id = response['JobId']\n",
    "data_ingestion_status = response['Status']\n",
    "\n",
    "# 수집이 완료될 때까지 기다립니다.\n",
    "print(\"=====Polling Data Ingestion Status=====\\n\")\n",
    "lookout_client = lookout.get_client(region_name=REGION_NAME)\n",
    "print(str(pd.to_datetime(datetime.now()))[:19], \"| \", data_ingestion_status)\n",
    "\n",
    "while data_ingestion_status == 'IN_PROGRESS':\n",
    "    time.sleep(60)\n",
    "    describe_data_ingestion_job_response = lookout_client.describe_data_ingestion_job(JobId=data_ingestion_job_id)\n",
    "    data_ingestion_status = describe_data_ingestion_job_response['Status']\n",
    "    print(str(pd.to_datetime(datetime.now()))[:19], \"| \", data_ingestion_status)\n",
    "    \n",
    "print(\"\\n=====End of Polling Data Ingestion Status=====\")"
   ]
  },
  {
   "cell_type": "markdown",
   "metadata": {},
   "source": [
    "콘솔에서 보듯이 이제 수집이 완료되어야합니다.\n",
    "\n",
    "![dataset_schema](../assets/dataset-ingestion-done.png)"
   ]
  },
  {
   "cell_type": "markdown",
   "metadata": {},
   "source": [
    "## 결론\n",
    "---"
   ]
  },
  {
   "cell_type": "markdown",
   "metadata": {},
   "source": [
    "이 노트북에서는 **Lookout for Equipment 데이터셋**을 생성하고 해당 데이터셋을 이용하여 이전에 업로드한 S3 데이터를 수집했습니다. **본 데이터를 기반으로 모델을 학습하려면 다음 노트북으로 바로 이동하세요.**"
   ]
  },
  {
   "cell_type": "code",
   "execution_count": 13,
   "metadata": {},
   "outputs": [],
   "source": [
    "# 본 시리즈의 다음 노트북에서 재사용하게끔 데이터셋 명을 저장해둬야 합니다. \n",
    "dataset_fname = os.path.join(DATA, 'dataset_name.txt')\n",
    "with open(dataset_fname, 'w') as f:\n",
    "    f.write(DATASET_NAME)"
   ]
  }
 ],
 "metadata": {
  "kernelspec": {
   "display_name": "Python 3",
   "language": "python",
   "name": "python3"
  },
  "language_info": {
   "codemirror_mode": {
    "name": "ipython",
    "version": 3
   },
   "file_extension": ".py",
   "mimetype": "text/x-python",
   "name": "python",
   "nbconvert_exporter": "python",
   "pygments_lexer": "ipython3",
   "version": "3.8.5"
  }
 },
 "nbformat": 4,
 "nbformat_minor": 4
}
